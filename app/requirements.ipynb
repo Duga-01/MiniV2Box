{
 "cells": [
  {
   "cell_type": "code",
   "execution_count": null,
   "id": "initial_id",
   "metadata": {
    "collapsed": true
   },
   "outputs": [],
   "source": [
    ""
   ]
  },
  {
   "metadata": {},
   "cell_type": "code",
   "outputs": [],
   "execution_count": null,
   "source": [
    "PySide6==6.7.2\n",
    "aiortc==1.8.0\n",
    "aiohttp==3.9.5\n",
    "psutil==6.0.0\n",
    "cryptography==42.0.8\n",
    "pynacl==1.5.0\n",
    "xray-core==1.8.24.5\n",
    "uvloop==0.19.0; sys_platform != \"win32\"\n",
    "pydivert==2.1.0; sys_platform == \"win32\"\n",
    "pyroute2==0.7.12; sys_platform == \"linux\"\n",
    "pyobjc==10.3; sys_platform == \"darwin\""
   ],
   "id": "f1f207e175662c82"
  }
 ],
 "metadata": {
  "kernelspec": {
   "display_name": "Python 3",
   "language": "python",
   "name": "python3"
  },
  "language_info": {
   "codemirror_mode": {
    "name": "ipython",
    "version": 2
   },
   "file_extension": ".py",
   "mimetype": "text/x-python",
   "name": "python",
   "nbconvert_exporter": "python",
   "pygments_lexer": "ipython2",
   "version": "2.7.6"
  }
 },
 "nbformat": 4,
 "nbformat_minor": 5
}
